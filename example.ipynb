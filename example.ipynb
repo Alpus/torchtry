{
 "cells": [
  {
   "cell_type": "code",
   "execution_count": 1,
   "metadata": {},
   "outputs": [],
   "source": [
    "%load_ext autoreload\n",
    "%autoreload 2\n",
    "\n",
    "import torch\n",
    "from torch import nn, optim\n",
    "from torch.utils.data import DataLoader\n",
    "\n",
    "import torchtry as tt\n",
    "from torchtry.logging import tensor_0_1_to_0_255"
   ]
  },
  {
   "cell_type": "code",
   "execution_count": 2,
   "metadata": {},
   "outputs": [],
   "source": [
    "tt.set_storage_dir('.')"
   ]
  },
  {
   "cell_type": "code",
   "execution_count": null,
   "metadata": {},
   "outputs": [],
   "source": []
  },
  {
   "cell_type": "code",
   "execution_count": 3,
   "metadata": {},
   "outputs": [],
   "source": [
    "class ExampleModel(nn.Module):\n",
    "    def __init__(self):\n",
    "        super().__init__()\n",
    "        self.fc = nn.Sequential(\n",
    "            nn.Linear(3 * 128 * 128, 3 * 16 * 16),\n",
    "            nn.Linear(3 * 16 * 16, 3 * 128 * 128),\n",
    "        )\n",
    "    \n",
    "    def forward(self, x):\n",
    "        x_view = x.view(x.size(0), -1)\n",
    "        x_fc = self.fc(x_view)\n",
    "        \n",
    "        return x_fc.view(x.size(0), 3, 128, 128)"
   ]
  },
  {
   "cell_type": "code",
   "execution_count": 4,
   "metadata": {},
   "outputs": [],
   "source": [
    "example_model = ExampleModel()"
   ]
  },
  {
   "cell_type": "code",
   "execution_count": 5,
   "metadata": {},
   "outputs": [],
   "source": [
    "example_train_dataset = [\n",
    "    (\n",
    "        torch.rand((3, 128, 128)),\n",
    "        torch.cat([torch.ones((3, 128, 64)), torch.zeros((3, 128, 64))], dim=2),\n",
    "    )\n",
    "    for _ in range(100)\n",
    "]"
   ]
  },
  {
   "cell_type": "code",
   "execution_count": 6,
   "metadata": {},
   "outputs": [],
   "source": [
    "class ExampleExperiment(tt.Experiment):\n",
    "    def setup_experiment(self):\n",
    "        self.model = example_model\n",
    "        self.optimizer = optim.SGD(params=self.model.parameters(), lr=1e-1)\n",
    "        self.train_dataloader = DataLoader(\n",
    "            example_train_dataset,\n",
    "            batch_size=4, shuffle=True,\n",
    "        )\n",
    "    \n",
    "    def train_step(self, sample, step_number):\n",
    "        self.model.train()\n",
    "        images, goals = sample\n",
    "\n",
    "        predictions = self.model(images)\n",
    "\n",
    "        loss_res = nn.functional.mse_loss(predictions, goals)\n",
    "        self.optimizer.zero_grad()\n",
    "        loss_res.backward()\n",
    "        self.optimizer.step()\n",
    "        \n",
    "        predictions_brightness = predictions.detach().mean(1).view(-1)\n",
    "\n",
    "        return {\n",
    "            'loss': loss_res,\n",
    "            'images': tensor_0_1_to_0_255(images),\n",
    "            'predictions': tensor_0_1_to_0_255(predictions),\n",
    "            'goals': tensor_0_1_to_0_255(goals),\n",
    "            'predictions_brightness': predictions_brightness,\n",
    "        }"
   ]
  },
  {
   "cell_type": "code",
   "execution_count": 7,
   "metadata": {},
   "outputs": [],
   "source": [
    "example_experiment = ExampleExperiment()"
   ]
  },
  {
   "cell_type": "code",
   "execution_count": null,
   "metadata": {},
   "outputs": [
    {
     "name": "stderr",
     "output_type": "stream",
     "text": [
      "Step:   5%|▌         | 52/1000 [00:18<05:58,  2.64it/s]"
     ]
    }
   ],
   "source": [
    "example_experiment.train(\n",
    "    save_frequency=3,\n",
    "    scalars_log_frequency=0.1,\n",
    "    images_log_frequency=0.5,\n",
    "    histograms_log_frequency=0.5,\n",
    "    finish_step=1000,\n",
    "    train_type='careful',\n",
    ")"
   ]
  },
  {
   "cell_type": "code",
   "execution_count": null,
   "metadata": {},
   "outputs": [],
   "source": []
  },
  {
   "cell_type": "code",
   "execution_count": null,
   "metadata": {},
   "outputs": [],
   "source": [
    "example_experiment = ExampleExperiment()"
   ]
  },
  {
   "cell_type": "code",
   "execution_count": null,
   "metadata": {},
   "outputs": [],
   "source": [
    "example_experiment.train(\n",
    "    save_frequency=3,\n",
    "    scalars_log_frequency=0.1,\n",
    "    images_log_frequency=0.5,\n",
    "    histograms_log_frequency=0.5,\n",
    "    finish_step=1500,\n",
    "    train_type='continue',\n",
    ")"
   ]
  },
  {
   "cell_type": "code",
   "execution_count": null,
   "metadata": {},
   "outputs": [],
   "source": []
  },
  {
   "cell_type": "code",
   "execution_count": null,
   "metadata": {},
   "outputs": [],
   "source": []
  },
  {
   "cell_type": "code",
   "execution_count": null,
   "metadata": {},
   "outputs": [],
   "source": []
  }
 ],
 "metadata": {
  "kernelspec": {
   "display_name": "Python 3",
   "language": "python",
   "name": "python3"
  },
  "language_info": {
   "codemirror_mode": {
    "name": "ipython",
    "version": 3
   },
   "file_extension": ".py",
   "mimetype": "text/x-python",
   "name": "python",
   "nbconvert_exporter": "python",
   "pygments_lexer": "ipython3",
   "version": "3.6.5"
  }
 },
 "nbformat": 4,
 "nbformat_minor": 2
}
